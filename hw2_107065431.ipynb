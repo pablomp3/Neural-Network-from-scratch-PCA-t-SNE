{
 "cells": [
  {
   "cell_type": "code",
   "execution_count": 1,
   "metadata": {},
   "outputs": [],
   "source": [
    "import pandas as pd\n",
    "import numpy as np\n",
    "import matplotlib.pyplot as plt\n",
    "import seaborn as sns\n",
    "import matplotlib\n",
    "\n",
    "%matplotlib inline\n",
    "matplotlib.rcParams['figure.figsize'] = (10.0, 8.0)"
   ]
  },
  {
   "cell_type": "code",
   "execution_count": 2,
   "metadata": {},
   "outputs": [],
   "source": [
    "# Read the whole dataset train.csv\n",
    "whole = pd.read_csv(\"Data.csv\")\n",
    "#print(whole[0:3])\n",
    "#len(whole)\n",
    "#list(whole)"
   ]
  },
  {
   "cell_type": "code",
   "execution_count": 3,
   "metadata": {},
   "outputs": [],
   "source": [
    "# build train dataframe with 80% of the dataset \n",
    "train_df_orig = whole.sample(frac=0.8,random_state=200) # 80%\n",
    "\n",
    "# the remaining 20% builds test dataframe\n",
    "test_df_orig = whole.drop(train_df_orig.index) # 20%\n",
    "\n",
    "# SPLIT TRAIN ORIG into TRAIN (70%) and VALIDATION (10%)\n",
    "validation_df_orig = train_df_orig.sample(frac=0.125,random_state=200) # 10%\n",
    "train_df = train_df_orig.drop(validation_df_orig.index) # 70%\n",
    "\n",
    "# So:\n",
    "# train_df         70 %          3855 x 68\n",
    "# validation_df    10 %          551  x 68\n",
    "# test_df          20 %          1102 x 68"
   ]
  },
  {
   "cell_type": "code",
   "execution_count": 4,
   "metadata": {},
   "outputs": [],
   "source": [
    "y = train_df.iloc[:,68:69].values #G3 column (not normalized)\n",
    "train_df = train_df.drop(columns=['Activities_Types'])\n",
    "\n",
    "y_validation = validation_df_orig.iloc[:,68:69].values #G3 column (not normalized)\n",
    "validation_df = validation_df_orig.drop(columns=['Activities_Types'])\n",
    "\n",
    "y_test = test_df_orig.iloc[:,68:69].values #G3 column (not normalized)\n",
    "test_df = test_df_orig.drop(columns=['Activities_Types'])"
   ]
  },
  {
   "cell_type": "code",
   "execution_count": 5,
   "metadata": {},
   "outputs": [
    {
     "name": "stdout",
     "output_type": "stream",
     "text": [
      "[[3]\n",
      " [6]\n",
      " [4]]\n"
     ]
    }
   ],
   "source": [
    "print(y_validation[0:3])"
   ]
  },
  {
   "cell_type": "code",
   "execution_count": 6,
   "metadata": {},
   "outputs": [
    {
     "data": {
      "text/plain": [
       "(1102, 1)"
      ]
     },
     "execution_count": 6,
     "metadata": {},
     "output_type": "execute_result"
    }
   ],
   "source": [
    "np.shape(y_test)"
   ]
  },
  {
   "cell_type": "code",
   "execution_count": 7,
   "metadata": {},
   "outputs": [
    {
     "data": {
      "text/plain": [
       "(1102, 68)"
      ]
     },
     "execution_count": 7,
     "metadata": {},
     "output_type": "execute_result"
    }
   ],
   "source": [
    "np.shape(test_df)"
   ]
  },
  {
   "cell_type": "code",
   "execution_count": 8,
   "metadata": {},
   "outputs": [
    {
     "name": "stdout",
     "output_type": "stream",
     "text": [
      "[3, 4]\n",
      "[3, 4]\n",
      "[3, 4, 4, 4, 5, 1, 1, 5, 1, 0, 3, 5, 5, 5, 0, 3, 5, 1, 0, 1]\n",
      "[2, 5]\n"
     ]
    }
   ],
   "source": [
    "y = [element[0] for element in y]\n",
    "\n",
    "# ----- Substracting 1 to each element in y dataset in order to feed the neural network\n",
    "# After the prediction, we would need to add 1 to every element of the prediction ----------\n",
    "type(y)\n",
    "y = [(elem - 1) for elem in y]\n",
    "print(y[0:2])\n",
    "\n",
    "# ------------------------------------------------------------------------------------------------------------\n",
    "# ------------------------------------------------------------------------------------------------------------\n",
    "\n",
    "y_test = [element[0] for element in y_test]\n",
    "\n",
    "# ----- Substracting 1 to each element in y dataset in order to feed the neural network\n",
    "# After the prediction, we would need to add 1 to every element of the prediction ----------\n",
    "y_test = [(elem - 1) for elem in y_test]\n",
    "print(y[0:2])\n",
    "\n",
    "# ------------------------------------------------------------------------------------------------------------\n",
    "# ------------------------------------------------------------------------------------------------------------\n",
    "\n",
    "y_validation = [element[0] for element in y_validation]\n",
    "print(y[0:20])\n",
    "\n",
    "# ----- Substracting 1 to each element in y dataset in order to feed the neural network\n",
    "# After the prediction, we would need to add 1 to every element of the prediction ----------\n",
    "y_validation = [(elem - 1) for elem in y_validation]\n",
    "print(y_validation[0:2])"
   ]
  },
  {
   "cell_type": "code",
   "execution_count": 9,
   "metadata": {},
   "outputs": [
    {
     "name": "stdout",
     "output_type": "stream",
     "text": [
      "[2, 5, 3, 1, 1, 4, 4, 4, 0, 1, 3, 0, 5, 4, 1, 1, 5, 2, 4, 3]\n"
     ]
    }
   ],
   "source": [
    "print(y_validation[0:20])"
   ]
  },
  {
   "cell_type": "code",
   "execution_count": 10,
   "metadata": {},
   "outputs": [],
   "source": [
    "#df = pd.DataFrame(data=train_df)\n",
    "len(train_df)\n",
    "X = train_df.values\n",
    "X_val = validation_df.values\n",
    "X_test = test_df.values"
   ]
  },
  {
   "cell_type": "code",
   "execution_count": 11,
   "metadata": {},
   "outputs": [],
   "source": [
    "#W1 = np.random.randn(nn_input_dim, nn_hdim) / np.sqrt(nn_input_dim) #68x15\n",
    "#b1 = np.zeros((1, nn_hdim))\n",
    "#z1 = X.dot(W1)"
   ]
  },
  {
   "cell_type": "code",
   "execution_count": 12,
   "metadata": {},
   "outputs": [
    {
     "ename": "NameError",
     "evalue": "name 'num_examples' is not defined",
     "output_type": "error",
     "traceback": [
      "\u001b[1;31m---------------------------------------------------------------------------\u001b[0m",
      "\u001b[1;31mNameError\u001b[0m                                 Traceback (most recent call last)",
      "\u001b[1;32m<ipython-input-12-2e4d99d3b3f8>\u001b[0m in \u001b[0;36m<module>\u001b[1;34m()\u001b[0m\n\u001b[1;32m----> 1\u001b[1;33m \u001b[0mnum_examples\u001b[0m\u001b[1;33m\u001b[0m\u001b[0m\n\u001b[0m",
      "\u001b[1;31mNameError\u001b[0m: name 'num_examples' is not defined"
     ]
    }
   ],
   "source": [
    "num_examples"
   ]
  },
  {
   "cell_type": "code",
   "execution_count": 13,
   "metadata": {},
   "outputs": [],
   "source": [
    "# Helper function to evaluate the total loss on the dataset\n",
    "def calculate_loss(model,X,y,num_examples):\n",
    "    W1, b1, W2, b2 = model['W1'], model['b1'], model['W2'], model['b2']\n",
    "    # Forward propagation to calculate our predictions\n",
    "    z1 = X.dot(W1) + b1\n",
    "    a1 = np.tanh(z1)\n",
    "    z2 = a1.dot(W2) + b2\n",
    "    exp_scores = np.exp(z2)\n",
    "    probs = exp_scores / np.sum(exp_scores, axis=1, keepdims=True)\n",
    "    # Calculating the loss\n",
    "    corect_logprobs = -np.log(probs[range(num_examples), y])\n",
    "    data_loss = np.sum(corect_logprobs)\n",
    "    # Add regulatization term to loss (optional)\n",
    "    data_loss += reg_lambda/2 * (np.sum(np.square(W1)) + np.sum(np.square(W2)))\n",
    "    return 1./num_examples * data_loss"
   ]
  },
  {
   "cell_type": "code",
   "execution_count": 14,
   "metadata": {},
   "outputs": [],
   "source": [
    "# Helper function to evaluate the total loss on the dataset each iteration\n",
    "def partial_loss(W1,b1,W2,b2,probs):\n",
    "    # Forward propagation to calculate our predictions\n",
    "    # Calculating the loss\n",
    "    corect_logprobs = -np.log(probs[range(num_examples), y])\n",
    "    data_loss = np.sum(corect_logprobs)\n",
    "    # Add regulatization term to loss (optional)\n",
    "    data_loss += reg_lambda/2 * (np.sum(np.square(W1)) + np.sum(np.square(W2)))\n",
    "    return 1./num_examples * data_loss"
   ]
  },
  {
   "cell_type": "code",
   "execution_count": 15,
   "metadata": {},
   "outputs": [],
   "source": [
    "# Helper function to predict an output (0 or 1)\n",
    "def predict(model, x):\n",
    "    W1, b1, W2, b2 = model['W1'], model['b1'], model['W2'], model['b2']\n",
    "    # Forward propagation\n",
    "    z1 = x.dot(W1) + b1\n",
    "    a1 = np.tanh(z1)\n",
    "    z2 = a1.dot(W2) + b2\n",
    "    exp_scores = np.exp(z2)\n",
    "    probs = exp_scores / np.sum(exp_scores, axis=1, keepdims=True)\n",
    "    return np.argmax(probs, axis=1)"
   ]
  },
  {
   "cell_type": "code",
   "execution_count": 16,
   "metadata": {},
   "outputs": [],
   "source": [
    "num_examples = len(train_df) # training set size\n",
    "num_examples_val = len(validation_df) # training set size\n",
    "num_examples_test = len(test_df) # training set size\n",
    "nn_input_dim = 68 # input layer dimensionality\n",
    "nn_output_dim = 6 # output layer dimensionality\n",
    "nn_hdim = 40\n",
    " \n",
    "# Gradient descent parameters (I picked these by hand)\n",
    "epsilon = 0.00001 # learning rate for gradient descent\n",
    "reg_lambda = 0.01 # regularization strength"
   ]
  },
  {
   "cell_type": "code",
   "execution_count": 17,
   "metadata": {},
   "outputs": [],
   "source": [
    "# This function learns parameters for the neural network and returns the model.\n",
    "# - nn_hdim: Number of nodes in the hidden layer\n",
    "# - num_passes: Number of passes through the training data for gradient descent\n",
    "# - print_loss: If True, print the loss every 1000 iterations\n",
    "def build_model(nn_hdim, num_passes=12000, print_loss=False):\n",
    "    \n",
    "    # Initialize the parameters to random values. We need to learn these.\n",
    "    np.random.seed(0)\n",
    "    W1 = np.random.randn(nn_input_dim, nn_hdim) / np.sqrt(nn_input_dim) #68x15\n",
    "    b1 = np.zeros((1, nn_hdim)) #1x15\n",
    "    W2 = np.random.randn(nn_hdim, nn_output_dim) / np.sqrt(nn_hdim) #15x6\n",
    "    b2 = np.zeros((1, nn_output_dim)) #1x6\n",
    "    W1_val = np.random.randn(nn_input_dim, nn_hdim) / np.sqrt(nn_input_dim) #68x15\n",
    "    b1_val = np.zeros((1, nn_hdim)) #1x15\n",
    "    W2_val = np.random.randn(nn_hdim, nn_output_dim) / np.sqrt(nn_hdim) #15x6\n",
    "    b2_val = np.zeros((1, nn_output_dim)) #1x6\n",
    "    #print(y2)\n",
    "    #print(y.shape)\n",
    "    #print(type(y))\n",
    "    #print(y.shape)\n",
    "    #print(np.ndindex((num_examples,6)))\n",
    "    # y shape = (4406,6)\n",
    "    # This is what we return at the end\n",
    "    model = {}\n",
    "    \n",
    "    perdida = [0]*num_passes\n",
    "    perdida_val = [0]*num_passes\n",
    "    epochs = [0]*num_passes\n",
    "    \n",
    "    perdida_val = [0]*num_passes\n",
    "    epochs_val = [0]*num_passes\n",
    "    \n",
    "    array_acc_train = [0]*num_passes\n",
    "    array_acc_validation = [0]*num_passes\n",
    "    \n",
    "    # Gradient descent. For each batch...\n",
    "    print(num_passes)\n",
    "    for i in range(0, num_passes):\n",
    " \n",
    "        # Forward propagation TRAINING\n",
    "        z1 = X.dot(W1) + b1    #4406x68 * 68x15 = 4406x15\n",
    "        a1 = np.tanh(z1)\n",
    "        z2 = a1.dot(W2) + b2\n",
    "        exp_scores = np.exp(z2)\n",
    "        probs = exp_scores / np.sum(exp_scores, axis=1, keepdims=True) \n",
    "        \n",
    "        '''# Forward propagation VALIDATION\n",
    "        z1_val = X_val.dot(W1_val) + b1_val    #4406x68 * 68x15 = 4406x15\n",
    "        a1_val = np.tanh(z1_val)\n",
    "        z2_val = a1_val.dot(W2_val) + b2_val\n",
    "        exp_scores_val = np.exp(z2_val)\n",
    "        probs_val = exp_scores_val / np.sum(exp_scores_val, axis=1, keepdims=True) '''\n",
    "        \n",
    "        # Backpropagation TRAINING\n",
    "        delta3 = probs\n",
    "        #print(delta3)\n",
    "        #print(delta3[range(3), [0,1,2]])\n",
    "        #print(type(delta3))\n",
    "        #print(np.shape(delta3))\n",
    "        \n",
    "        delta3[range(num_examples), y] -= 1\n",
    "        dW2 = (a1.T).dot(delta3)\n",
    "        db2 = np.sum(delta3, axis=0, keepdims=True)\n",
    "        delta2 = delta3.dot(W2.T) * (1 - np.power(a1, 2))\n",
    "        dW1 = np.dot(X.T, delta2)\n",
    "        db1 = np.sum(delta2, axis=0)\n",
    "        \n",
    "        '''# Backpropagation VALIDATION\n",
    "        delta3_val = probs_val        \n",
    "        delta3_val[range(num_examples), y_validation] -= 1\n",
    "        dW2_val = (a1_val.T).dot(delta3_val)\n",
    "        db2_val = np.sum(delta3_val, axis=0, keepdims=True)\n",
    "        delta2_val = delta3_val.dot(W2_val.T) * (1 - np.power(a1_val, 2))\n",
    "        dW1_val = np.dot(X_val.T, delta2_val)\n",
    "        db1_val = np.sum(delta2_val, axis=0)'''\n",
    " \n",
    "        # Add regularization terms (b1 and b2 don't have regularization terms)\n",
    "        dW2 += reg_lambda * W2\n",
    "        dW1 += reg_lambda * W1\n",
    "        \n",
    "        '''# Add regularization terms (b1 and b2 don't have regularization terms)\n",
    "        dW2_val += reg_lambda * W2_val\n",
    "        dW1_val += reg_lambda * W1_val'''\n",
    " \n",
    "        # Gradient descent parameter update\n",
    "        W1 += -epsilon * dW1\n",
    "        b1 += -epsilon * db1\n",
    "        W2 += -epsilon * dW2\n",
    "        b2 += -epsilon * db2  \n",
    "        \n",
    "        '''# Gradient descent parameter update\n",
    "        W1_val += -epsilon * dW1_val\n",
    "        b1_val += -epsilon * db1_val\n",
    "        W2_val += -epsilon * dW2_val\n",
    "        b2_val += -epsilon * db2_val '''\n",
    "        \n",
    "        # Assign new parameters to the model\n",
    "        model = { 'W1': W1, 'b1': b1, 'W2': W2, 'b2': b2}\n",
    "        '''# Assign new parameters to the model\n",
    "        model_val = { 'W1_val': W1_val, 'b1_val': b1_val, 'W2_val': W2_val, 'b2_val': b2_val}'''\n",
    "        \n",
    "        perdida[i] = calculate_loss(model,X,y,num_examples)\n",
    "        perdida_val[i] = calculate_loss(model,X_val,y_validation,num_examples_val)\n",
    "        epochs[i] = i \n",
    "        '''perdida_val[i] = calculate_loss(model_val)\n",
    "        epochs_val[i] = i '''\n",
    "        \n",
    "        # ------------------------- T R A I N I N G --- A c c u r a c y ----------------------------------\n",
    "        # prediction wth training data\n",
    "        real = predict(model, X)\n",
    "\n",
    "        # Training Accuracy\n",
    "        counter_training = 0\n",
    "        total_training = len(train_df)\n",
    "        # sum 1 to every prediction to make it testable\n",
    "        for k in range(0, total_training):\n",
    "            if real[k] == y[k]:\n",
    "                counter_training += 1\n",
    "        acc_train = (counter_training/total_training)\n",
    "        \n",
    "        array_acc_train[i] = acc_train*100\n",
    "        #-----------------------------------------------------------------------------------------------\n",
    "        \n",
    "        # ------------------------- V A L I D A T I O N --- A c c u r a c y ----------------------------------\n",
    "        # prediction wth validation data\n",
    "        validation = predict(model, validation_df.values)\n",
    "\n",
    "        # Training Accuracy\n",
    "        counter_val = 0\n",
    "        total_val = len(validation_df)\n",
    "        # sum 1 to every prediction to make it testable\n",
    "        for k in range(0, total_val):\n",
    "            if validation[k] == y_validation[k]:\n",
    "                counter_val += 1\n",
    "        acc_val = (counter_val/total_val) # correct guesses/total guesses\n",
    "        \n",
    "        array_acc_validation[i] = acc_val*100\n",
    "        #-----------------------------------------------------------------------------------------------\n",
    "        \n",
    "        \n",
    "        # Optionally print the loss.\n",
    "        # This is expensive because it uses the whole dataset, so we don't want to do it too often.\n",
    "        if print_loss and i % 1000 == 0:\n",
    "            #print(\"TRAINING Loss after iter %i: %f\" % (i, calculate_loss(model,X,y,num_examples)))\n",
    "            print(\"VALIDATION Loss after iter %i:    %f\" % (i, calculate_loss(model,X_val,y_validation,num_examples_val)))\n",
    "            #print(\"TRAINING Accuracy after iter %i: %f\" % (i, acc_train*100))\n",
    "            #print(\"VALIDATION Accuracy for after iter %i: %f\" % (i, acc_val*100))\n",
    "\n",
    "        if i == num_passes:\n",
    "            print(\"TRAINING Loss after iter %i: %f\" % (i, calculate_loss(model,X,y,num_examples)))\n",
    "            print(\"VALIDATION Loss after iter %i: %f\" % (i, calculate_loss(model,X_val,y_validation,num_examples_val)))\n",
    "            print(\"TRAINING Accuracy after iter %i: %f\" % (i, acc_train*100))\n",
    "            print(\"VALIDATION Accuracy for after iter %i: %f\" % (i, acc_val*100))\n",
    "            \n",
    "           \n",
    "    #plt.plot(epochs, perdida, linewidth=0.6)\n",
    "    '''f1 = plt.plot(perdida, label = 'Training loss')\n",
    "    f1 = plt.plot(perdida_val, label = 'Validation loss')\n",
    "    f2 = plt.plot(array_acc_train, label = 'Training accuracy')\n",
    "    f2 = plt.plot(array_acc_validation, label = 'Validation accuracy')\n",
    "    #plt.plot(y_no_bias, label = '20.8737 Linear Regression')\n",
    "    plt.legend(loc='upper left')\n",
    "    fig = plt.gcf()\n",
    "    fig.set_size_inches(18.5, 10.5)'''\n",
    "    \n",
    "    plt.subplot(2, 1, 1)\n",
    "    plt.plot(perdida, label = 'Training loss')\n",
    "    plt.plot(perdida_val, label = 'Validation loss')\n",
    "    plt.ylabel('Loss')\n",
    "    plt.legend(loc='upper right')\n",
    "\n",
    "    plt.subplot(2, 1, 2)\n",
    "    plt.plot(array_acc_train, label = 'Training accuracy')\n",
    "    plt.plot(array_acc_validation, label = 'Validation accuracy')\n",
    "    plt.xlabel('epoch')\n",
    "    plt.ylabel('Accuracy')\n",
    "    plt.legend(loc='upper right')\n",
    "    \n",
    "    fig = plt.gcf()\n",
    "    fig.set_size_inches(18.5, 10.5)\n",
    "    plt.show()\n",
    "    \n",
    "    return model"
   ]
  },
  {
   "cell_type": "code",
   "execution_count": 18,
   "metadata": {},
   "outputs": [
    {
     "name": "stdout",
     "output_type": "stream",
     "text": [
      "12000\n",
      "VALIDATION Loss after iter 0:    1.917592\n",
      "VALIDATION Loss after iter 1000:    0.242435\n",
      "VALIDATION Loss after iter 2000:    0.170355\n",
      "VALIDATION Loss after iter 3000:    0.146340\n",
      "VALIDATION Loss after iter 4000:    0.134684\n",
      "VALIDATION Loss after iter 5000:    0.127349\n",
      "VALIDATION Loss after iter 6000:    0.122342\n",
      "VALIDATION Loss after iter 7000:    0.119355\n",
      "VALIDATION Loss after iter 8000:    0.117273\n",
      "VALIDATION Loss after iter 9000:    0.115609\n",
      "VALIDATION Loss after iter 10000:    0.114168\n",
      "VALIDATION Loss after iter 11000:    0.113276\n"
     ]
    },
    {
     "data": {
      "image/png": "[encoded data removed]",
      "text/plain": [
       "<Figure size 1332x756 with 2 Axes>"
      ]
     },
     "metadata": {
      "needs_background": "light"
     },
     "output_type": "display_data"
    }
   ],
   "source": [
    "# Build a model with a 3-dimensional hidden layer\n",
    "model = build_model(40, print_loss=True)\n",
    "\n",
    "# Plot the decision boundary\n",
    "#plot_decision_boundary(lambda x: predict(model, x))\n",
    "#plt.title(\"Decision Boundary for hidden layer size 3\")"
   ]
  },
  {
   "cell_type": "code",
   "execution_count": 19,
   "metadata": {},
   "outputs": [],
   "source": [
    "# 20000 iter 40 nodes 1 hidden layer = 1.43 error\n",
    "# 20000 iter 9 nodes                 = 12.8\n",
    "# 20000 iter 19 nodes                = 3.57\n",
    "# 20000 iter 30 nodes                = 7.9\n",
    "# 50000 iter 40 nodes                = 0.92\n",
    "# 50000 iter 18 nodes                = "
   ]
  },
  {
   "cell_type": "code",
   "execution_count": 20,
   "metadata": {},
   "outputs": [
    {
     "data": {
      "text/plain": [
       "0.03837690249242415"
      ]
     },
     "execution_count": 20,
     "metadata": {},
     "output_type": "execute_result"
    }
   ],
   "source": [
    "calculate_loss(model,X,y,num_examples)"
   ]
  },
  {
   "cell_type": "code",
   "execution_count": 21,
   "metadata": {},
   "outputs": [
    {
     "ename": "NameError",
     "evalue": "name 'prediction' is not defined",
     "output_type": "error",
     "traceback": [
      "\u001b[1;31m---------------------------------------------------------------------------\u001b[0m",
      "\u001b[1;31mNameError\u001b[0m                                 Traceback (most recent call last)",
      "\u001b[1;32m<ipython-input-21-260f11e4a7e1>\u001b[0m in \u001b[0;36m<module>\u001b[1;34m()\u001b[0m\n\u001b[0;32m      1\u001b[0m \u001b[1;31m# It is necessary to add 1 to every element in the prediction, because we had substracted 1 for training our neural network\u001b[0m\u001b[1;33m\u001b[0m\u001b[1;33m\u001b[0m\u001b[0m\n\u001b[0;32m      2\u001b[0m \u001b[1;31m#prediction = prediction + 1\u001b[0m\u001b[1;33m\u001b[0m\u001b[1;33m\u001b[0m\u001b[0m\n\u001b[1;32m----> 3\u001b[1;33m \u001b[0mprint\u001b[0m\u001b[1;33m(\u001b[0m\u001b[0mprediction\u001b[0m\u001b[1;33m[\u001b[0m\u001b[1;36m0\u001b[0m\u001b[1;33m:\u001b[0m\u001b[1;36m20\u001b[0m\u001b[1;33m]\u001b[0m\u001b[1;33m)\u001b[0m\u001b[1;33m\u001b[0m\u001b[0m\n\u001b[0m",
      "\u001b[1;31mNameError\u001b[0m: name 'prediction' is not defined"
     ]
    }
   ],
   "source": [
    "# It is necessary to add 1 to every element in the prediction, because we had substracted 1 for training our neural network\n",
    "#prediction = prediction + 1\n",
    "print(prediction[0:20])"
   ]
  },
  {
   "cell_type": "code",
   "execution_count": 22,
   "metadata": {},
   "outputs": [
    {
     "name": "stdout",
     "output_type": "stream",
     "text": [
      "0.9911802853437095\n"
     ]
    }
   ],
   "source": [
    "# TRAINING ACCURACY\n",
    "\n",
    "# prediction with training data\n",
    "real = predict(model, X)\n",
    "\n",
    "# Training Accuracy\n",
    "counter_training = 0\n",
    "total_training = len(train_df)\n",
    "# sum 1 to every prediction to make it testable\n",
    "for i in range(0, total_training):\n",
    "    if real[i] == y[i]:\n",
    "        counter_training += 1\n",
    "training_acc = (counter_training/total_training)\n",
    "print(counter_training/total_training)"
   ]
  },
  {
   "cell_type": "code",
   "execution_count": 23,
   "metadata": {},
   "outputs": [
    {
     "name": "stdout",
     "output_type": "stream",
     "text": [
      "0.9709618874773139\n"
     ]
    }
   ],
   "source": [
    "# VALIDATION ACCURACY\n",
    "\n",
    "# prediction with validation data\n",
    "validation = predict(model, validation_df.values)\n",
    "\n",
    "# Validation Accuracy\n",
    "counter_val = 0\n",
    "total_val = len(validation_df)\n",
    "# sum 1 to every prediction to make it testable\n",
    "for i in range(0, total_val):\n",
    "    if validation[i] == y_validation[i]:\n",
    "        counter_val += 1\n",
    "print(counter_val/total_val)"
   ]
  },
  {
   "cell_type": "code",
   "execution_count": 24,
   "metadata": {},
   "outputs": [
    {
     "name": "stdout",
     "output_type": "stream",
     "text": [
      "0.9764065335753176\n"
     ]
    }
   ],
   "source": [
    "# TESTING ACCURACY\n",
    "\n",
    "# prediction with testing data\n",
    "prediction = predict(model, test_df.values)\n",
    "\n",
    "# Testing Accuracy\n",
    "# test_df and y_test contain 1102 records:\n",
    "\n",
    "counter_testing = 0\n",
    "total_testing = len(test_df)\n",
    "# sum 1 to every prediction to make it testable\n",
    "for i in range(0, total_testing):\n",
    "    if prediction[i] == y_test[i]:\n",
    "        counter_testing += 1\n",
    "testing_acc = (counter_testing/total_testing)\n",
    "print(counter_testing/total_testing)"
   ]
  },
  {
   "cell_type": "code",
   "execution_count": 25,
   "metadata": {},
   "outputs": [
    {
     "data": {
      "text/plain": [
       "0.03837690249242415"
      ]
     },
     "execution_count": 25,
     "metadata": {},
     "output_type": "execute_result"
    }
   ],
   "source": [
    "# TRAINING LOSS\n",
    "training_loss = calculate_loss(model,X,y,num_examples)\n",
    "training_loss"
   ]
  },
  {
   "cell_type": "code",
   "execution_count": 26,
   "metadata": {},
   "outputs": [
    {
     "data": {
      "text/plain": [
       "(3855,)"
      ]
     },
     "execution_count": 26,
     "metadata": {},
     "output_type": "execute_result"
    }
   ],
   "source": [
    "np.shape(y)"
   ]
  },
  {
   "cell_type": "code",
   "execution_count": 27,
   "metadata": {},
   "outputs": [
    {
     "data": {
      "text/plain": [
       "0.09343777585631415"
      ]
     },
     "execution_count": 27,
     "metadata": {},
     "output_type": "execute_result"
    }
   ],
   "source": [
    "# TESTING LOSS\n",
    "testing_loss = calculate_loss(model,X_test,y_test,num_examples_test)\n",
    "testing_loss"
   ]
  },
  {
   "cell_type": "code",
   "execution_count": 28,
   "metadata": {},
   "outputs": [
    {
     "data": {
      "text/html": [
       "<div>\n",
       "<style scoped>\n",
       "    .dataframe tbody tr th:only-of-type {\n",
       "        vertical-align: middle;\n",
       "    }\n",
       "\n",
       "    .dataframe tbody tr th {\n",
       "        vertical-align: top;\n",
       "    }\n",
       "\n",
       "    .dataframe thead th {\n",
       "        text-align: right;\n",
       "    }\n",
       "</style>\n",
       "<table border=\"1\" class=\"dataframe\">\n",
       "  <thead>\n",
       "    <tr style=\"text-align: right;\">\n",
       "      <th></th>\n",
       "      <th>Training</th>\n",
       "      <th>Testing</th>\n",
       "    </tr>\n",
       "  </thead>\n",
       "  <tbody>\n",
       "    <tr>\n",
       "      <th>Accuracy</th>\n",
       "      <td>0.991180</td>\n",
       "      <td>0.976407</td>\n",
       "    </tr>\n",
       "    <tr>\n",
       "      <th>Loss</th>\n",
       "      <td>0.038377</td>\n",
       "      <td>0.093438</td>\n",
       "    </tr>\n",
       "  </tbody>\n",
       "</table>\n",
       "</div>"
      ],
      "text/plain": [
       "          Training   Testing\n",
       "Accuracy  0.991180  0.976407\n",
       "Loss      0.038377  0.093438"
      ]
     },
     "execution_count": 28,
     "metadata": {},
     "output_type": "execute_result"
    }
   ],
   "source": [
    "df_perf = {'Training': [training_acc, training_loss], 'Testing': [testing_acc, testing_loss]}\n",
    "df_perf = pd.DataFrame(data = df_perf, index = ['Accuracy', 'Loss'])\n",
    "df_perf"
   ]
  },
  {
   "cell_type": "markdown",
   "metadata": {},
   "source": [
    "# Second part (ii)\n",
    "## Precision, recall, F1-score (micro and macro-average)"
   ]
  },
  {
   "cell_type": "code",
   "execution_count": 29,
   "metadata": {},
   "outputs": [],
   "source": [
    "# First we set each of the classes predicted (by using the testing set)\n",
    "\n",
    "# Before we fed df_test into the NN, we manipulated the inputs, changing the range of the target y_test from [1,6] to [0,5]\n",
    "# Therefore now we need to add 1 to each element for keeping the original format\n",
    "\n",
    "# prediction is made with \"model\" and \"test_df\", and validated with \"y_test\"\n",
    "\n",
    "prediction = prediction + 1"
   ]
  },
  {
   "cell_type": "code",
   "execution_count": 30,
   "metadata": {},
   "outputs": [],
   "source": [
    "y_test = np.array(y_test)"
   ]
  },
  {
   "cell_type": "code",
   "execution_count": 31,
   "metadata": {},
   "outputs": [],
   "source": [
    "y_test = y_test + 1"
   ]
  },
  {
   "cell_type": "code",
   "execution_count": 32,
   "metadata": {},
   "outputs": [],
   "source": [
    "# Counter for true positives\n",
    "counter_predict_1 = 0\n",
    "counter_predict_2 = 0\n",
    "counter_predict_3 = 0\n",
    "counter_predict_4 = 0\n",
    "counter_predict_5 = 0\n",
    "counter_predict_6 = 0\n",
    "\n",
    "# Counter for false positives\n",
    "counter_fp_1 = 0\n",
    "counter_fp_2 = 0\n",
    "counter_fp_3 = 0\n",
    "counter_fp_4 = 0\n",
    "counter_fp_5 = 0\n",
    "counter_fp_6 = 0\n",
    "\n",
    "# Counter for false negatives\n",
    "counter_fn_1 = 0\n",
    "counter_fn_2 = 0\n",
    "counter_fn_3 = 0\n",
    "counter_fn_4 = 0\n",
    "counter_fn_5 = 0\n",
    "counter_fn_6 = 0\n",
    "\n",
    "# Count predictions that were correct // TRUE POSITIVES\n",
    "for i in range(0, len(y_test)):\n",
    "    if y_test[i] == 1 and prediction[i] == 1:\n",
    "        counter_predict_1 += 1\n",
    "    if y_test[i] == 2 and prediction[i] == 2:\n",
    "        counter_predict_2 += 1\n",
    "    if y_test[i] == 3 and prediction[i] == 3:\n",
    "        counter_predict_3 += 1\n",
    "    if y_test[i] == 4 and prediction[i] == 4:\n",
    "        counter_predict_4 += 1\n",
    "    if y_test[i] == 5 and prediction[i] == 5:\n",
    "        counter_predict_5 += 1\n",
    "    if y_test[i] == 6 and prediction[i] == 6:\n",
    "        counter_predict_6 += 1\n",
    "\n",
    "# Count predictions that were not correct // FALSE NEGATIVE = I predict that it is not certain group but it actually IS\n",
    "for i in range(0, len(y_test)):\n",
    "    if y_test[i] == 1 and prediction[i] != 1:\n",
    "        counter_fn_1 += 1\n",
    "    if y_test[i] == 2 and prediction[i] != 2:\n",
    "        counter_fn_2 += 1\n",
    "    if y_test[i] == 3 and prediction[i] != 3:\n",
    "        counter_fn_3 += 1\n",
    "    if y_test[i] == 4 and prediction[i] != 4:\n",
    "        counter_fn_4 += 1\n",
    "    if y_test[i] == 5 and prediction[i] != 5:\n",
    "        counter_fn_5 += 1\n",
    "    if y_test[i] == 6 and prediction[i] != 6:\n",
    "        counter_fn_6 += 1\n",
    "        \n",
    "# Count predictions that were not correct // FALSE POSITIVE = I predict it is certain group but it is NOT\n",
    "for i in range(0, len(y_test)):\n",
    "    if y_test[i] != 1 and prediction[i] == 1:\n",
    "        counter_fp_1 += 1\n",
    "    if y_test[i] != 2 and prediction[i] == 2:\n",
    "        counter_fp_2 += 1\n",
    "    if y_test[i] != 3 and prediction[i] == 3:\n",
    "        counter_fp_3 += 1\n",
    "    if y_test[i] != 4 and prediction[i] == 4:\n",
    "        counter_fp_4 += 1\n",
    "    if y_test[i] != 5 and prediction[i] == 5:\n",
    "        counter_fp_5 += 1\n",
    "    if y_test[i] != 6 and prediction[i] == 6:\n",
    "        counter_fp_6 += 1"
   ]
  },
  {
   "cell_type": "code",
   "execution_count": 33,
   "metadata": {},
   "outputs": [
    {
     "data": {
      "text/plain": [
       "8"
      ]
     },
     "execution_count": 33,
     "metadata": {},
     "output_type": "execute_result"
    }
   ],
   "source": [
    "counter_fp_1"
   ]
  },
  {
   "cell_type": "code",
   "execution_count": 34,
   "metadata": {},
   "outputs": [
    {
     "data": {
      "text/plain": [
       "0.9674238232646794"
      ]
     },
     "execution_count": 34,
     "metadata": {},
     "output_type": "execute_result"
    }
   ],
   "source": [
    "# P R E C I S I O N = TP / (TP + FP)\n",
    "\n",
    "# CLASS 1\n",
    "precision_1 = counter_predict_1/(counter_predict_1+counter_fp_1)\n",
    "# CLASS 2\n",
    "precision_2 = counter_predict_2/(counter_predict_2+counter_fp_2)\n",
    "# CLASS 3\n",
    "precision_3 = counter_predict_3/(counter_predict_3+counter_fp_3)\n",
    "# CLASS 4\n",
    "precision_4 = counter_predict_4/(counter_predict_4+counter_fp_4)\n",
    "# CLASS 5\n",
    "precision_5 = counter_predict_5/(counter_predict_5+counter_fp_5)\n",
    "# CLASS 6\n",
    "precision_6 = counter_predict_6/(counter_predict_6+counter_fp_6)\n",
    "\n",
    "# MACRO PRECISION\n",
    "tp_total = counter_predict_1+counter_predict_2+counter_predict_3+counter_predict_4+counter_predict_5+counter_predict_6\n",
    "fp_total = counter_fp_1+counter_fp_2+counter_fp_3+counter_fp_4+counter_fp_5+counter_fp_6\n",
    "micro_precision = tp_total/(tp_total+fp_total)\n",
    "micro_precision\n",
    "\n",
    "macro_precision = (precision_1+precision_2+precision_3+precision_4+precision_5+precision_6)/6\n",
    "macro_precision"
   ]
  },
  {
   "cell_type": "code",
   "execution_count": 35,
   "metadata": {},
   "outputs": [
    {
     "data": {
      "text/plain": [
       "0.9720997242074096"
      ]
     },
     "execution_count": 35,
     "metadata": {},
     "output_type": "execute_result"
    }
   ],
   "source": [
    "# R E C A L L = TP / (TP + FN)\n",
    "\n",
    "# CLASS 1\n",
    "recall_1 = counter_predict_1/(counter_predict_1+counter_fn_1)\n",
    "# CLASS 2\n",
    "recall_2 = counter_predict_2/(counter_predict_2+counter_fn_2)\n",
    "# CLASS 3\n",
    "recall_3 = counter_predict_3/(counter_predict_3+counter_fn_3)\n",
    "# CLASS 4\n",
    "recall_4 = counter_predict_4/(counter_predict_4+counter_fn_4)\n",
    "# CLASS 5\n",
    "recall_5 = counter_predict_5/(counter_predict_5+counter_fn_5)\n",
    "# CLASS 6\n",
    "recall_6 = counter_predict_6/(counter_predict_6+counter_fn_6)\n",
    "\n",
    "# MACRO PRECISION\n",
    "tp_total = counter_predict_1+counter_predict_2+counter_predict_3+counter_predict_4+counter_predict_5+counter_predict_6\n",
    "fn_total = counter_fn_1+counter_fn_2+counter_fn_3+counter_fn_4+counter_fn_5+counter_fn_6\n",
    "micro_recall = tp_total/(tp_total+fn_total)\n",
    "micro_recall\n",
    "\n",
    "macro_recall = (recall_1+recall_2+recall_3+recall_4+recall_5+recall_6)/6\n",
    "macro_recall"
   ]
  },
  {
   "cell_type": "code",
   "execution_count": 36,
   "metadata": {},
   "outputs": [
    {
     "data": {
      "text/plain": [
       "0.9697561372874295"
      ]
     },
     "execution_count": 36,
     "metadata": {},
     "output_type": "execute_result"
    }
   ],
   "source": [
    "# F - S C O R E = 2 * (Precision * Recall) / (Precision + Recall)\n",
    "\n",
    "# CLASS 1\n",
    "f_score_1 = 2*(precision_1*recall_1)/(precision_1+recall_1)\n",
    "# CLASS 2\n",
    "f_score_2 = 2*(precision_2*recall_2)/(precision_2+recall_2)\n",
    "# CLASS 3\n",
    "f_score_3 = 2*(precision_3*recall_3)/(precision_3+recall_3)\n",
    "# CLASS 4\n",
    "f_score_4 = 2*(precision_4*recall_4)/(precision_4+recall_4)\n",
    "# CLASS 5\n",
    "f_score_5 = 2*(precision_5*recall_5)/(precision_5+recall_5)\n",
    "# CLASS 6\n",
    "f_score_6 = 2*(precision_6*recall_6)/(precision_6+recall_6)\n",
    "\n",
    "micro_f_score = 2*(micro_precision*micro_recall)/(micro_precision+micro_recall)\n",
    "micro_f_score\n",
    "\n",
    "macro_f_score = 2*(macro_precision*macro_recall)/(macro_precision+macro_recall)\n",
    "macro_f_score"
   ]
  },
  {
   "cell_type": "code",
   "execution_count": 37,
   "metadata": {},
   "outputs": [
    {
     "data": {
      "text/html": [
       "<div>\n",
       "<style scoped>\n",
       "    .dataframe tbody tr th:only-of-type {\n",
       "        vertical-align: middle;\n",
       "    }\n",
       "\n",
       "    .dataframe tbody tr th {\n",
       "        vertical-align: top;\n",
       "    }\n",
       "\n",
       "    .dataframe thead th {\n",
       "        text-align: right;\n",
       "    }\n",
       "</style>\n",
       "<table border=\"1\" class=\"dataframe\">\n",
       "  <thead>\n",
       "    <tr style=\"text-align: right;\">\n",
       "      <th></th>\n",
       "      <th>Precision</th>\n",
       "      <th>Recall</th>\n",
       "      <th>F-score</th>\n",
       "    </tr>\n",
       "  </thead>\n",
       "  <tbody>\n",
       "    <tr>\n",
       "      <th>Class 1</th>\n",
       "      <td>0.920000</td>\n",
       "      <td>0.948454</td>\n",
       "      <td>0.934010</td>\n",
       "    </tr>\n",
       "    <tr>\n",
       "      <th>Class 2</th>\n",
       "      <td>0.990909</td>\n",
       "      <td>0.995434</td>\n",
       "      <td>0.993166</td>\n",
       "    </tr>\n",
       "    <tr>\n",
       "      <th>Class 3</th>\n",
       "      <td>0.980198</td>\n",
       "      <td>1.000000</td>\n",
       "      <td>0.990000</td>\n",
       "    </tr>\n",
       "    <tr>\n",
       "      <th>Class 4</th>\n",
       "      <td>0.931818</td>\n",
       "      <td>0.924812</td>\n",
       "      <td>0.928302</td>\n",
       "    </tr>\n",
       "    <tr>\n",
       "      <th>Class 5</th>\n",
       "      <td>0.981618</td>\n",
       "      <td>0.963899</td>\n",
       "      <td>0.972678</td>\n",
       "    </tr>\n",
       "    <tr>\n",
       "      <th>Class 6</th>\n",
       "      <td>0.981618</td>\n",
       "      <td>1.000000</td>\n",
       "      <td>1.000000</td>\n",
       "    </tr>\n",
       "    <tr>\n",
       "      <th>micro</th>\n",
       "      <td>0.976407</td>\n",
       "      <td>0.976407</td>\n",
       "      <td>0.976407</td>\n",
       "    </tr>\n",
       "    <tr>\n",
       "      <th>macro</th>\n",
       "      <td>0.967424</td>\n",
       "      <td>0.972100</td>\n",
       "      <td>0.969756</td>\n",
       "    </tr>\n",
       "  </tbody>\n",
       "</table>\n",
       "</div>"
      ],
      "text/plain": [
       "         Precision    Recall   F-score\n",
       "Class 1   0.920000  0.948454  0.934010\n",
       "Class 2   0.990909  0.995434  0.993166\n",
       "Class 3   0.980198  1.000000  0.990000\n",
       "Class 4   0.931818  0.924812  0.928302\n",
       "Class 5   0.981618  0.963899  0.972678\n",
       "Class 6   0.981618  1.000000  1.000000\n",
       "micro     0.976407  0.976407  0.976407\n",
       "macro     0.967424  0.972100  0.969756"
      ]
     },
     "execution_count": 37,
     "metadata": {},
     "output_type": "execute_result"
    }
   ],
   "source": [
    "df_eval = {'Precision': [precision_1, precision_2, precision_3, precision_4, precision_5, precision_5, micro_precision, macro_precision], 'Recall': [recall_1, recall_2, recall_3, recall_4, recall_5, recall_6, micro_recall, macro_recall], 'F-score': [f_score_1, f_score_2, f_score_3, f_score_4, f_score_5, f_score_6, micro_f_score, macro_f_score]}\n",
    "df_eval = pd.DataFrame(data = df_eval, index = ['Class 1', 'Class 2', 'Class 3','Class 4', 'Class 5', 'Class 6', 'micro', 'macro'])\n",
    "df_eval"
   ]
  },
  {
   "cell_type": "markdown",
   "metadata": {},
   "source": [
    "# (iv) PCA and 2 principal components"
   ]
  },
  {
   "cell_type": "code",
   "execution_count": 38,
   "metadata": {},
   "outputs": [
    {
     "data": {
      "text/html": [
       "<div>\n",
       "<style scoped>\n",
       "    .dataframe tbody tr th:only-of-type {\n",
       "        vertical-align: middle;\n",
       "    }\n",
       "\n",
       "    .dataframe tbody tr th {\n",
       "        vertical-align: top;\n",
       "    }\n",
       "\n",
       "    .dataframe thead th {\n",
       "        text-align: right;\n",
       "    }\n",
       "</style>\n",
       "<table border=\"1\" class=\"dataframe\">\n",
       "  <thead>\n",
       "    <tr style=\"text-align: right;\">\n",
       "      <th></th>\n",
       "      <th>attitude_max_roll</th>\n",
       "      <th>attitude_max_pitch</th>\n",
       "      <th>attitude_max_yaw</th>\n",
       "      <th>gravity_max_x</th>\n",
       "      <th>gravity_max_y</th>\n",
       "      <th>gravity_max_z</th>\n",
       "      <th>rotationRate_max_x</th>\n",
       "      <th>rotationRate_max_y</th>\n",
       "      <th>rotationRate_max_z</th>\n",
       "      <th>userAcceleration_max_x</th>\n",
       "      <th>...</th>\n",
       "      <th>attitude_skew_roll</th>\n",
       "      <th>attitude_skew_yaw</th>\n",
       "      <th>gravity_skew_x</th>\n",
       "      <th>gravity_skew_y</th>\n",
       "      <th>gravity_skew_z</th>\n",
       "      <th>rotationRate_skew_x</th>\n",
       "      <th>rotationRate_skew_y</th>\n",
       "      <th>rotationRate_skew_z</th>\n",
       "      <th>userAcceleration_skew_x</th>\n",
       "      <th>Activities_Types</th>\n",
       "    </tr>\n",
       "  </thead>\n",
       "  <tbody>\n",
       "    <tr>\n",
       "      <th>2080</th>\n",
       "      <td>-0.168139</td>\n",
       "      <td>-0.330985</td>\n",
       "      <td>2.548639</td>\n",
       "      <td>-0.133801</td>\n",
       "      <td>0.903700</td>\n",
       "      <td>-0.271377</td>\n",
       "      <td>5.141771</td>\n",
       "      <td>5.637589</td>\n",
       "      <td>3.722824</td>\n",
       "      <td>1.574891</td>\n",
       "      <td>...</td>\n",
       "      <td>-0.650091</td>\n",
       "      <td>-0.237709</td>\n",
       "      <td>-0.045487</td>\n",
       "      <td>-0.537471</td>\n",
       "      <td>0.289306</td>\n",
       "      <td>-0.580209</td>\n",
       "      <td>-0.785863</td>\n",
       "      <td>-0.794836</td>\n",
       "      <td>-0.944554</td>\n",
       "      <td>3</td>\n",
       "    </tr>\n",
       "    <tr>\n",
       "      <th>2336</th>\n",
       "      <td>-0.204823</td>\n",
       "      <td>0.027015</td>\n",
       "      <td>-0.167012</td>\n",
       "      <td>-0.203320</td>\n",
       "      <td>-0.016717</td>\n",
       "      <td>-0.977521</td>\n",
       "      <td>0.021440</td>\n",
       "      <td>0.027254</td>\n",
       "      <td>0.016386</td>\n",
       "      <td>0.025117</td>\n",
       "      <td>...</td>\n",
       "      <td>0.061136</td>\n",
       "      <td>0.812512</td>\n",
       "      <td>0.080939</td>\n",
       "      <td>-0.808717</td>\n",
       "      <td>0.411306</td>\n",
       "      <td>-1.335608</td>\n",
       "      <td>-0.623323</td>\n",
       "      <td>0.504980</td>\n",
       "      <td>0.400425</td>\n",
       "      <td>6</td>\n",
       "    </tr>\n",
       "  </tbody>\n",
       "</table>\n",
       "<p>2 rows × 69 columns</p>\n",
       "</div>"
      ],
      "text/plain": [
       "      attitude_max_roll  attitude_max_pitch  attitude_max_yaw  gravity_max_x  \\\n",
       "2080          -0.168139           -0.330985          2.548639      -0.133801   \n",
       "2336          -0.204823            0.027015         -0.167012      -0.203320   \n",
       "\n",
       "      gravity_max_y  gravity_max_z  rotationRate_max_x  rotationRate_max_y  \\\n",
       "2080       0.903700      -0.271377            5.141771            5.637589   \n",
       "2336      -0.016717      -0.977521            0.021440            0.027254   \n",
       "\n",
       "      rotationRate_max_z  userAcceleration_max_x        ...         \\\n",
       "2080            3.722824                1.574891        ...          \n",
       "2336            0.016386                0.025117        ...          \n",
       "\n",
       "      attitude_skew_roll  attitude_skew_yaw  gravity_skew_x  gravity_skew_y  \\\n",
       "2080           -0.650091          -0.237709       -0.045487       -0.537471   \n",
       "2336            0.061136           0.812512        0.080939       -0.808717   \n",
       "\n",
       "      gravity_skew_z  rotationRate_skew_x  rotationRate_skew_y  \\\n",
       "2080        0.289306            -0.580209            -0.785863   \n",
       "2336        0.411306            -1.335608            -0.623323   \n",
       "\n",
       "      rotationRate_skew_z  userAcceleration_skew_x  Activities_Types  \n",
       "2080            -0.794836                -0.944554                 3  \n",
       "2336             0.504980                 0.400425                 6  \n",
       "\n",
       "[2 rows x 69 columns]"
      ]
     },
     "execution_count": 38,
     "metadata": {},
     "output_type": "execute_result"
    }
   ],
   "source": [
    "# Our validation dataset contains = features + target (Activities_Types)\n",
    "#validation_df_orig = validation_df_orig.astype({\"Activities_Types\": str})\n",
    "#validation_df_orig['Activities_Types'] = validation_df_orig['Activities_Types'].map({'1': 'downstairs', '2': 'upstairs', '3': 'sitting', '4': 'standing', '5': 'walking', '6': 'jogging'})\n",
    "validation_df_orig[0:2]"
   ]
  },
  {
   "cell_type": "code",
   "execution_count": 39,
   "metadata": {},
   "outputs": [
    {
     "data": {
      "text/plain": [
       "pandas.core.frame.DataFrame"
      ]
     },
     "execution_count": 39,
     "metadata": {},
     "output_type": "execute_result"
    }
   ],
   "source": [
    "type(validation_df_orig)"
   ]
  },
  {
   "cell_type": "code",
   "execution_count": 40,
   "metadata": {},
   "outputs": [],
   "source": [
    "# Now we need to scale our data (all features except target), before applying PCA\n",
    "\n",
    "from sklearn.preprocessing import StandardScaler\n",
    "features = ['attitude_max_roll',\n",
    " 'attitude_max_pitch',\n",
    " 'attitude_max_yaw',\n",
    " 'gravity_max_x',\n",
    " 'gravity_max_y',\n",
    " 'gravity_max_z',\n",
    " 'rotationRate_max_x',\n",
    " 'rotationRate_max_y',\n",
    " 'rotationRate_max_z',\n",
    " 'userAcceleration_max_x',\n",
    " 'userAcceleration_max_y',\n",
    " 'userAcceleration_max_z',\n",
    " 'attitude_sum_roll',\n",
    " 'attitude_sum_pitch',\n",
    " 'attitude_sum_yaw',\n",
    " 'gravity_sum_x',\n",
    " 'gravity_sum_y',\n",
    " 'gravity_sum_z',\n",
    " 'rotationRate_sum_x',\n",
    " 'rotationRate_sum_y',\n",
    " 'rotationRate_sum_z',\n",
    " 'userAcceleration_sum_x',\n",
    " 'userAcceleration_sum_y',\n",
    " 'attitude_min_roll',\n",
    " 'attitude_min_pitch',\n",
    " 'attitude_min_yaw',\n",
    " 'gravity_min_x',\n",
    " 'gravity_min_y',\n",
    " 'gravity_min_z',\n",
    " 'rotationRate_min_x',\n",
    " 'rotationRate_min_y',\n",
    " 'rotationRate_min_z',\n",
    " 'userAcceleration_min_x',\n",
    " 'userAcceleration_min_y',\n",
    " 'userAcceleration_min_z',\n",
    " 'attitude_sumSS_roll',\n",
    " 'attitude_sumSS_pitch',\n",
    " 'attitude_sumSS_yaw',\n",
    " 'gravity_sumSS_x',\n",
    " 'gravity_sumSS_y',\n",
    " 'gravity_sumSS_z',\n",
    " 'rotationRate_sumSS_x',\n",
    " 'rotationRate_sumSS_y',\n",
    " 'rotationRate_sumSS_z',\n",
    " 'userAcceleration_sumSS_x',\n",
    " 'userAcceleration_sumSS_y',\n",
    " 'userAcceleration_sumSS_z',\n",
    " 'attitude_std_roll',\n",
    " 'attitude_std_pitch',\n",
    " 'attitude_std_yaw',\n",
    " 'gravity_std_x',\n",
    " 'gravity_std_y',\n",
    " 'gravity_std_z',\n",
    " 'rotationRate_std_x',\n",
    " 'rotationRate_std_y',\n",
    " 'rotationRate_std_z',\n",
    " 'userAcceleration_std_x',\n",
    " 'userAcceleration_std_y',\n",
    " 'attitude_skew_pitch',\n",
    " 'attitude_skew_roll',\n",
    " 'attitude_skew_yaw',\n",
    " 'gravity_skew_x',\n",
    " 'gravity_skew_y',\n",
    " 'gravity_skew_z',\n",
    " 'rotationRate_skew_x',\n",
    " 'rotationRate_skew_y',\n",
    " 'rotationRate_skew_z',\n",
    " 'userAcceleration_skew_x']\n",
    "# Separating out the features\n",
    "x = validation_df_orig.loc[:, features].values\n",
    "# Separating out the target Activities_Types\n",
    "y = validation_df_orig.loc[:,['Activities_Types']].values\n",
    "# Standardizing the features\n",
    "x = StandardScaler().fit_transform(x)"
   ]
  },
  {
   "cell_type": "code",
   "execution_count": 41,
   "metadata": {},
   "outputs": [
    {
     "ename": "NameError",
     "evalue": "name 'principalComponents' is not defined",
     "output_type": "error",
     "traceback": [
      "\u001b[1;31m---------------------------------------------------------------------------\u001b[0m",
      "\u001b[1;31mNameError\u001b[0m                                 Traceback (most recent call last)",
      "\u001b[1;32m<ipython-input-41-cb5e221e6815>\u001b[0m in \u001b[0;36m<module>\u001b[1;34m()\u001b[0m\n\u001b[1;32m----> 1\u001b[1;33m \u001b[0mprint\u001b[0m\u001b[1;33m(\u001b[0m\u001b[0mprincipalComponents\u001b[0m\u001b[1;33m)\u001b[0m\u001b[1;33m\u001b[0m\u001b[0m\n\u001b[0m",
      "\u001b[1;31mNameError\u001b[0m: name 'principalComponents' is not defined"
     ]
    }
   ],
   "source": [
    "print(principalComponents)"
   ]
  },
  {
   "cell_type": "code",
   "execution_count": 42,
   "metadata": {},
   "outputs": [
    {
     "name": "stdout",
     "output_type": "stream",
     "text": [
      "[[3]\n",
      " [6]\n",
      " [4]]\n"
     ]
    }
   ],
   "source": [
    "print(y[0:3])"
   ]
  },
  {
   "cell_type": "code",
   "execution_count": 43,
   "metadata": {},
   "outputs": [
    {
     "ename": "NameError",
     "evalue": "name 'principalComponents_y' is not defined",
     "output_type": "error",
     "traceback": [
      "\u001b[1;31m---------------------------------------------------------------------------\u001b[0m",
      "\u001b[1;31mNameError\u001b[0m                                 Traceback (most recent call last)",
      "\u001b[1;32m<ipython-input-43-c9ea396e0101>\u001b[0m in \u001b[0;36m<module>\u001b[1;34m()\u001b[0m\n\u001b[1;32m----> 1\u001b[1;33m \u001b[0mprint\u001b[0m\u001b[1;33m(\u001b[0m\u001b[0mprincipalComponents_y\u001b[0m\u001b[1;33m)\u001b[0m\u001b[1;33m\u001b[0m\u001b[0m\n\u001b[0m",
      "\u001b[1;31mNameError\u001b[0m: name 'principalComponents_y' is not defined"
     ]
    }
   ],
   "source": [
    "print(principalComponents_y)"
   ]
  },
  {
   "cell_type": "code",
   "execution_count": 44,
   "metadata": {},
   "outputs": [
    {
     "name": "stdout",
     "output_type": "stream",
     "text": [
      "      Activities_Types\n",
      "2080                 3\n",
      "2336                 6\n",
      "2002                 4\n"
     ]
    }
   ],
   "source": [
    "print(validation_df_orig[['Activities_Types']][0:3])"
   ]
  },
  {
   "cell_type": "code",
   "execution_count": 45,
   "metadata": {},
   "outputs": [],
   "source": [
    "# Now the PCA has to project all the features (68 features) into only 2D\n",
    "from sklearn.decomposition import PCA\n",
    "pca = PCA(n_components=2)\n",
    "principalComponents = pca.fit_transform(x)\n",
    "principalComponents_y = np.concatenate((principalComponents, y), axis=1)\n",
    "principalDf = pd.DataFrame(data = principalComponents_y\n",
    "             , columns = ['principal component 1', 'principal component 2','Activities_Types'])\n",
    "finalDf = principalDf"
   ]
  },
  {
   "cell_type": "code",
   "execution_count": 46,
   "metadata": {},
   "outputs": [],
   "source": [
    "#finalDf = pd.concat([principalDf, validation_df_orig['Activities_Types']], axis = 1)\n",
    "#finalDf = pd.concat([principalDf, y], axis = 1)"
   ]
  },
  {
   "cell_type": "code",
   "execution_count": 47,
   "metadata": {},
   "outputs": [
    {
     "name": "stdout",
     "output_type": "stream",
     "text": [
      "   principal component 1  principal component 2  Activities_Types\n",
      "0              10.081197               6.424303               3.0\n",
      "1              -6.513867               5.896376               6.0\n",
      "2               3.391873              -1.161315               4.0\n"
     ]
    }
   ],
   "source": [
    "print(principalDf[0:3])"
   ]
  },
  {
   "cell_type": "code",
   "execution_count": 48,
   "metadata": {},
   "outputs": [
    {
     "data": {
      "text/plain": [
       "551"
      ]
     },
     "execution_count": 48,
     "metadata": {},
     "output_type": "execute_result"
    }
   ],
   "source": [
    "len(finalDf)"
   ]
  },
  {
   "cell_type": "code",
   "execution_count": 49,
   "metadata": {},
   "outputs": [
    {
     "data": {
      "text/html": [
       "<div>\n",
       "<style scoped>\n",
       "    .dataframe tbody tr th:only-of-type {\n",
       "        vertical-align: middle;\n",
       "    }\n",
       "\n",
       "    .dataframe tbody tr th {\n",
       "        vertical-align: top;\n",
       "    }\n",
       "\n",
       "    .dataframe thead th {\n",
       "        text-align: right;\n",
       "    }\n",
       "</style>\n",
       "<table border=\"1\" class=\"dataframe\">\n",
       "  <thead>\n",
       "    <tr style=\"text-align: right;\">\n",
       "      <th></th>\n",
       "      <th>Activities_Types</th>\n",
       "    </tr>\n",
       "  </thead>\n",
       "  <tbody>\n",
       "    <tr>\n",
       "      <th>0</th>\n",
       "      <td>3.0</td>\n",
       "    </tr>\n",
       "    <tr>\n",
       "      <th>1</th>\n",
       "      <td>6.0</td>\n",
       "    </tr>\n",
       "    <tr>\n",
       "      <th>2</th>\n",
       "      <td>4.0</td>\n",
       "    </tr>\n",
       "  </tbody>\n",
       "</table>\n",
       "</div>"
      ],
      "text/plain": [
       "   Activities_Types\n",
       "0               3.0\n",
       "1               6.0\n",
       "2               4.0"
      ]
     },
     "execution_count": 49,
     "metadata": {},
     "output_type": "execute_result"
    }
   ],
   "source": [
    "principalDf[['Activities_Types']][0:3]"
   ]
  },
  {
   "cell_type": "code",
   "execution_count": 50,
   "metadata": {},
   "outputs": [
    {
     "data": {
      "image/png": "[encoded data removed]",
      "text/plain": [
       "<Figure size 576x576 with 1 Axes>"
      ]
     },
     "metadata": {
      "needs_background": "light"
     },
     "output_type": "display_data"
    }
   ],
   "source": [
    "fig = plt.figure(figsize = (8,8))\n",
    "ax = fig.add_subplot(1,1,1) \n",
    "ax.set_xlabel('Principal Component 1', fontsize = 15)\n",
    "ax.set_ylabel('Principal Component 2', fontsize = 15)\n",
    "ax.set_title('2 component PCA', fontsize = 20)\n",
    "#targets = ['downstairs', 'upstairs', 'sitting', 'standing', 'walking', 'jogging']\n",
    "targets = [1,2,3,4,5,6]\n",
    "colors = ['r', 'g', 'b', 'c', 'y', 'm']\n",
    "for target, color in zip(targets,colors):\n",
    "#for target in targets:\n",
    "    indicesToKeep = finalDf['Activities_Types'] == target\n",
    "    #indicesToKeep = finalDf[3] == target\n",
    "    ax.scatter(finalDf.loc[indicesToKeep, 'principal component 1']\n",
    "               , finalDf.loc[indicesToKeep, 'principal component 2']\n",
    "               , c = color\n",
    "               , s = 50)\n",
    "ax.legend(targets)\n",
    "ax.grid()"
   ]
  },
  {
   "cell_type": "code",
   "execution_count": 51,
   "metadata": {},
   "outputs": [
    {
     "data": {
      "image/png": "[encoded data removed]",
      "text/plain": [
       "<Figure size 576x576 with 1 Axes>"
      ]
     },
     "metadata": {
      "needs_background": "light"
     },
     "output_type": "display_data"
    }
   ],
   "source": [
    "# TEST DATASET\n",
    "\n",
    "# Our test dataset contains = features + target (Activities_Types)\n",
    "#test_df_orig = test_df_orig.astype({\"Activities_Types\": str})\n",
    "#test_df_orig['Activities_Types'] = test_df_orig['Activities_Types'].map({'1': 'downstairs', '2': 'upstairs', '3': 'sitting', '4': 'standing', '5': 'walking', '6': 'jogging'})\n",
    "test_df_orig[0:2]\n",
    "\n",
    "# Now we need to scale our data (all features except target), before applying PCA\n",
    "\n",
    "from sklearn.preprocessing import StandardScaler\n",
    "features = ['attitude_max_roll',\n",
    " 'attitude_max_pitch',\n",
    " 'attitude_max_yaw',\n",
    " 'gravity_max_x',\n",
    " 'gravity_max_y',\n",
    " 'gravity_max_z',\n",
    " 'rotationRate_max_x',\n",
    " 'rotationRate_max_y',\n",
    " 'rotationRate_max_z',\n",
    " 'userAcceleration_max_x',\n",
    " 'userAcceleration_max_y',\n",
    " 'userAcceleration_max_z',\n",
    " 'attitude_sum_roll',\n",
    " 'attitude_sum_pitch',\n",
    " 'attitude_sum_yaw',\n",
    " 'gravity_sum_x',\n",
    " 'gravity_sum_y',\n",
    " 'gravity_sum_z',\n",
    " 'rotationRate_sum_x',\n",
    " 'rotationRate_sum_y',\n",
    " 'rotationRate_sum_z',\n",
    " 'userAcceleration_sum_x',\n",
    " 'userAcceleration_sum_y',\n",
    " 'attitude_min_roll',\n",
    " 'attitude_min_pitch',\n",
    " 'attitude_min_yaw',\n",
    " 'gravity_min_x',\n",
    " 'gravity_min_y',\n",
    " 'gravity_min_z',\n",
    " 'rotationRate_min_x',\n",
    " 'rotationRate_min_y',\n",
    " 'rotationRate_min_z',\n",
    " 'userAcceleration_min_x',\n",
    " 'userAcceleration_min_y',\n",
    " 'userAcceleration_min_z',\n",
    " 'attitude_sumSS_roll',\n",
    " 'attitude_sumSS_pitch',\n",
    " 'attitude_sumSS_yaw',\n",
    " 'gravity_sumSS_x',\n",
    " 'gravity_sumSS_y',\n",
    " 'gravity_sumSS_z',\n",
    " 'rotationRate_sumSS_x',\n",
    " 'rotationRate_sumSS_y',\n",
    " 'rotationRate_sumSS_z',\n",
    " 'userAcceleration_sumSS_x',\n",
    " 'userAcceleration_sumSS_y',\n",
    " 'userAcceleration_sumSS_z',\n",
    " 'attitude_std_roll',\n",
    " 'attitude_std_pitch',\n",
    " 'attitude_std_yaw',\n",
    " 'gravity_std_x',\n",
    " 'gravity_std_y',\n",
    " 'gravity_std_z',\n",
    " 'rotationRate_std_x',\n",
    " 'rotationRate_std_y',\n",
    " 'rotationRate_std_z',\n",
    " 'userAcceleration_std_x',\n",
    " 'userAcceleration_std_y',\n",
    " 'attitude_skew_pitch',\n",
    " 'attitude_skew_roll',\n",
    " 'attitude_skew_yaw',\n",
    " 'gravity_skew_x',\n",
    " 'gravity_skew_y',\n",
    " 'gravity_skew_z',\n",
    " 'rotationRate_skew_x',\n",
    " 'rotationRate_skew_y',\n",
    " 'rotationRate_skew_z',\n",
    " 'userAcceleration_skew_x']\n",
    "# Separating out the features\n",
    "x = test_df_orig.loc[:, features].values\n",
    "# Separating out the target Activities_Types\n",
    "y = test_df_orig.loc[:,['Activities_Types']].values\n",
    "# Standardizing the features\n",
    "x = StandardScaler().fit_transform(x)\n",
    "\n",
    "# Now the PCA has to project all the features (68 features) into only 2D\n",
    "from sklearn.decomposition import PCA\n",
    "pca = PCA(n_components=2)\n",
    "principalComponents = pca.fit_transform(x)\n",
    "principalComponents_y = np.concatenate((principalComponents, y), axis=1)\n",
    "principalDf = pd.DataFrame(data = principalComponents_y\n",
    "             , columns = ['principal component 1', 'principal component 2','Activities_Types'])\n",
    "\n",
    "finalDf = principalDf\n",
    "\n",
    "fig = plt.figure(figsize = (8,8))\n",
    "ax = fig.add_subplot(1,1,1) \n",
    "ax.set_xlabel('Principal Component 1', fontsize = 15)\n",
    "ax.set_ylabel('Principal Component 2', fontsize = 15)\n",
    "ax.set_title('2 component PCA', fontsize = 20)\n",
    "#targets = ['downstairs', 'upstairs', 'sitting', 'standing', 'walking', 'jogging']\n",
    "targets = [1,2,3,4,5,6]\n",
    "colors = ['r', 'g', 'b', 'c', 'y', 'm']\n",
    "for target, color in zip(targets,colors):\n",
    "    indicesToKeep = finalDf['Activities_Types'] == target\n",
    "    ax.scatter(finalDf.loc[indicesToKeep, 'principal component 1']\n",
    "               , finalDf.loc[indicesToKeep, 'principal component 2']\n",
    "               , c = color\n",
    "               , s = 50)\n",
    "ax.legend(targets)\n",
    "ax.grid()"
   ]
  },
  {
   "cell_type": "markdown",
   "metadata": {},
   "source": [
    "# (v) t-SNE"
   ]
  },
  {
   "cell_type": "code",
   "execution_count": 52,
   "metadata": {},
   "outputs": [
    {
     "name": "stdout",
     "output_type": "stream",
     "text": [
      "[t-SNE] Computing 121 nearest neighbors...\n",
      "[t-SNE] Indexed 1102 samples in 0.003s...\n",
      "[t-SNE] Computed neighbors for 1102 samples in 0.177s...\n",
      "[t-SNE] Computed conditional probabilities for sample 1000 / 1102\n",
      "[t-SNE] Computed conditional probabilities for sample 1102 / 1102\n",
      "[t-SNE] Mean sigma: 2.573920\n",
      "[t-SNE] KL divergence after 250 iterations with early exaggeration: 59.227898\n",
      "[t-SNE] KL divergence after 300 iterations: 0.834010\n",
      "t-SNE done! Time elapsed: 3.167371988296509 seconds\n"
     ]
    }
   ],
   "source": [
    "import time\n",
    "from sklearn.manifold import TSNE\n",
    "\n",
    "time_start = time.time()\n",
    "tsne = TSNE(n_components=2, verbose=1, perplexity=40, n_iter=300)\n",
    "tsne_results = tsne.fit_transform(x)\n",
    "\n",
    "print('t-SNE done! Time elapsed: {} seconds'.format(time.time()-time_start))"
   ]
  },
  {
   "cell_type": "code",
   "execution_count": 53,
   "metadata": {},
   "outputs": [
    {
     "name": "stdout",
     "output_type": "stream",
     "text": [
      "   principal component 1  principal component 2  Activities_Types\n",
      "0              -6.366112               4.141485               6.0\n",
      "1              -6.480422               4.406320               6.0\n",
      "2               4.538591              -1.334584               3.0\n"
     ]
    }
   ],
   "source": [
    "print(principalDf[0:3])"
   ]
  },
  {
   "cell_type": "code",
   "execution_count": 54,
   "metadata": {},
   "outputs": [
    {
     "name": "stdout",
     "output_type": "stream",
     "text": [
      "   principal component 1  principal component 2  Activities_Types\n",
      "0              -6.366112               4.141485               6.0\n",
      "1              -6.480422               4.406320               6.0\n",
      "2               4.538591              -1.334584               3.0\n"
     ]
    }
   ],
   "source": [
    "print(principalDf[0:3])"
   ]
  },
  {
   "cell_type": "code",
   "execution_count": 55,
   "metadata": {},
   "outputs": [
    {
     "data": {
      "image/png": "[encoded data removed]",
      "text/plain": [
       "<Figure size 576x576 with 1 Axes>"
      ]
     },
     "metadata": {
      "needs_background": "light"
     },
     "output_type": "display_data"
    }
   ],
   "source": [
    "tsne_results_y = np.concatenate((tsne_results, y), axis=1)\n",
    "principalDf = pd.DataFrame(data = tsne_results_y\n",
    "             , columns = ['x-tsne', 'y-tsne','Activities_Types'])\n",
    "finalDf = principalDf\n",
    "#finalDf = pd.concat([principalDf, test_df_orig['Activities_Types']], axis = 1)\n",
    "\n",
    "fig = plt.figure(figsize = (8,8))\n",
    "ax = fig.add_subplot(1,1,1) \n",
    "ax.set_xlabel('x-tsne', fontsize = 15)\n",
    "ax.set_ylabel('y-tsne', fontsize = 15)\n",
    "ax.set_title('t-SNE dimensions', fontsize = 20)\n",
    "#targets = ['downstairs', 'upstairs', 'sitting', 'standing', 'walking', 'jogging']\n",
    "targets = [1,2,3,4,5,6]\n",
    "colors = ['r', 'g', 'b', 'c', 'y', 'm']\n",
    "for target, color in zip(targets,colors):\n",
    "    indicesToKeep = finalDf['Activities_Types'] == target\n",
    "    ax.scatter(finalDf.loc[indicesToKeep, 'x-tsne']\n",
    "               , finalDf.loc[indicesToKeep, 'y-tsne']\n",
    "               , c = color\n",
    "               , s = 50)\n",
    "ax.legend(targets)\n",
    "ax.grid()"
   ]
  },
  {
   "cell_type": "markdown",
   "metadata": {},
   "source": [
    "# Hidden Test Set"
   ]
  },
  {
   "cell_type": "code",
   "execution_count": 56,
   "metadata": {},
   "outputs": [
    {
     "name": "stdout",
     "output_type": "stream",
     "text": [
      "   attitude_max_roll  attitude_max_pitch  attitude_max_yaw  gravity_max_x  \\\n",
      "0          -0.831907           -0.637383          3.093231      -0.586844   \n",
      "1           0.002482           -0.743562         -0.641182       0.001545   \n",
      "2          -2.653296           -0.077918         -0.411637      -0.455793   \n",
      "\n",
      "   gravity_max_y  gravity_max_z  rotationRate_max_x  rotationRate_max_y  \\\n",
      "0       0.807047       0.147621            3.856673            2.386889   \n",
      "1       0.994576       0.072182            4.313818            7.107692   \n",
      "2       0.093805       0.885836            0.032580            0.057317   \n",
      "\n",
      "   rotationRate_max_z  userAcceleration_max_x           ...             \\\n",
      "0            1.460328                0.693459           ...              \n",
      "1            1.795167                0.632683           ...              \n",
      "2            0.040802                0.039537           ...              \n",
      "\n",
      "   attitude_skew_pitch  attitude_skew_roll  attitude_skew_yaw  gravity_skew_x  \\\n",
      "0            -0.011941           -0.333696          -0.280720       -0.375932   \n",
      "1            -0.040959           -1.173306          -1.059960        0.560121   \n",
      "2             0.375249            0.657431          -0.998834       -0.650853   \n",
      "\n",
      "   gravity_skew_y  gravity_skew_z  rotationRate_skew_x  rotationRate_skew_y  \\\n",
      "0       -0.106142        0.212970             0.273485             0.419829   \n",
      "1       -0.311504        0.393741             0.027947             0.947965   \n",
      "2       -0.375930       -0.621394             0.231460            -0.303474   \n",
      "\n",
      "   rotationRate_skew_z  userAcceleration_skew_x  \n",
      "0             0.473957                -0.816049  \n",
      "1            -0.622051                -0.366401  \n",
      "2            -0.656876                 0.482538  \n",
      "\n",
      "[3 rows x 68 columns]\n"
     ]
    },
    {
     "data": {
      "text/plain": [
       "1378"
      ]
     },
     "execution_count": 56,
     "metadata": {},
     "output_type": "execute_result"
    }
   ],
   "source": [
    "# Read the whole dataset test_no_Ac.csv\n",
    "whole_test = pd.read_csv(\"test_no_Ac.csv\")\n",
    "print(whole_test[0:3])\n",
    "len(whole_test)"
   ]
  },
  {
   "cell_type": "code",
   "execution_count": 57,
   "metadata": {},
   "outputs": [
    {
     "name": "stdout",
     "output_type": "stream",
     "text": [
      "igual\n"
     ]
    }
   ],
   "source": [
    "if list(train_df) == list(whole_test):\n",
    "    print(\"igual\")"
   ]
  },
  {
   "cell_type": "code",
   "execution_count": 58,
   "metadata": {},
   "outputs": [
    {
     "data": {
      "text/plain": [
       "numpy.ndarray"
      ]
     },
     "execution_count": 58,
     "metadata": {},
     "output_type": "execute_result"
    }
   ],
   "source": [
    "type(whole_test.values)"
   ]
  },
  {
   "cell_type": "code",
   "execution_count": 59,
   "metadata": {},
   "outputs": [
    {
     "data": {
      "text/plain": [
       "numpy.ndarray"
      ]
     },
     "execution_count": 59,
     "metadata": {},
     "output_type": "execute_result"
    }
   ],
   "source": [
    "type(x)"
   ]
  },
  {
   "cell_type": "code",
   "execution_count": 60,
   "metadata": {},
   "outputs": [],
   "source": [
    "hidden_test = predict(model,whole_test.values)"
   ]
  },
  {
   "cell_type": "code",
   "execution_count": 61,
   "metadata": {},
   "outputs": [],
   "source": [
    "hidden_test += 1"
   ]
  },
  {
   "cell_type": "code",
   "execution_count": 62,
   "metadata": {},
   "outputs": [
    {
     "data": {
      "text/plain": [
       "1378"
      ]
     },
     "execution_count": 62,
     "metadata": {},
     "output_type": "execute_result"
    }
   ],
   "source": [
    "len(hidden_test)"
   ]
  },
  {
   "cell_type": "code",
   "execution_count": 63,
   "metadata": {},
   "outputs": [
    {
     "name": "stdout",
     "output_type": "stream",
     "text": [
      "[1 5 6 3 4 5 5 1 5 5 2 2 6 1 3 2 6 2 6 1]\n"
     ]
    }
   ],
   "source": [
    "print(hidden_test[0:20])"
   ]
  },
  {
   "cell_type": "code",
   "execution_count": 64,
   "metadata": {},
   "outputs": [
    {
     "name": "stdout",
     "output_type": "stream",
     "text": [
      "[   0    1    2 ... 1375 1376 1377]\n"
     ]
    }
   ],
   "source": [
    "index = np.arange(1378)\n",
    "type(index)\n",
    "len(index)\n",
    "print(index)"
   ]
  },
  {
   "cell_type": "code",
   "execution_count": 65,
   "metadata": {},
   "outputs": [],
   "source": [
    "hidden_test_index = np.concatenate((hidden_test, index), axis=0)"
   ]
  },
  {
   "cell_type": "code",
   "execution_count": 66,
   "metadata": {},
   "outputs": [
    {
     "name": "stdout",
     "output_type": "stream",
     "text": [
      "[   1    5    6 ... 1375 1376 1377]\n"
     ]
    }
   ],
   "source": [
    "print(hidden_test_index)"
   ]
  },
  {
   "cell_type": "code",
   "execution_count": 67,
   "metadata": {},
   "outputs": [],
   "source": [
    "np.savetxt('107065431_Ac1.txt', hidden_test, fmt='%d')"
   ]
  },
  {
   "cell_type": "code",
   "execution_count": null,
   "metadata": {},
   "outputs": [],
   "source": []
  }
 ],
 "metadata": {
  "kernelspec": {
   "display_name": "Python 3",
   "language": "python",
   "name": "python3"
  },
  "language_info": {
   "codemirror_mode": {
    "name": "ipython",
    "version": 3
   },
   "file_extension": ".py",
   "mimetype": "text/x-python",
   "name": "python",
   "nbconvert_exporter": "python",
   "pygments_lexer": "ipython3",
   "version": "3.7.0"
  }
 },
 "nbformat": 4,
 "nbformat_minor": 2
}
